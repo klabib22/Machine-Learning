{
 "cells": [
  {
   "cell_type": "code",
   "execution_count": 2,
   "id": "2cfaba73-5a75-4ba5-b6c8-1baa8d3affaa",
   "metadata": {},
   "outputs": [
    {
     "name": "stdout",
     "output_type": "stream",
     "text": [
      "[[  2 -90   1]\n",
      " [  3  -1   2]\n",
      " [  4   0   6]]\n"
     ]
    }
   ],
   "source": [
    "import numpy as np\n",
    "\n",
    "listA = [[2,-90,1],[3,-1,2],[4,0,6]]\n",
    "A = np.array(listA)\n",
    "print(A)"
   ]
  },
  {
   "cell_type": "code",
   "execution_count": 3,
   "id": "92ca765e-c169-4e87-8df6-5721fcaf8a6b",
   "metadata": {},
   "outputs": [
    {
     "name": "stdout",
     "output_type": "stream",
     "text": [
      "[[-0.00672646  0.60538117 -0.20067265]\n",
      " [-0.01121076  0.00896861 -0.00112108]\n",
      " [ 0.0044843  -0.40358744  0.30044843]]\n"
     ]
    }
   ],
   "source": [
    "invA = np.linalg.inv(A)\n",
    "print(invA)"
   ]
  },
  {
   "cell_type": "code",
   "execution_count": 9,
   "id": "fc7a6ff6-3eaf-48c9-b067-7c3ae2bb45b6",
   "metadata": {},
   "outputs": [
    {
     "name": "stdout",
     "output_type": "stream",
     "text": [
      "[[ 1.75224215  6.32511211 -1.60874439]\n",
      " [-0.07959641  0.20852018 -0.01457399]\n",
      " [-0.66816143 -4.88340807  1.9058296 ]]\n"
     ]
    }
   ],
   "source": [
    "Y= np.array([[10,-11,0],[4,9,-1],[3,-4,5]])\n",
    "B = np.linalg.solve(A,Y)\n",
    "print(B)\n"
   ]
  },
  {
   "cell_type": "code",
   "execution_count": 10,
   "id": "bd842bf1-af47-4cfe-8bb6-1dae565e3e2f",
   "metadata": {},
   "outputs": [
    {
     "name": "stdout",
     "output_type": "stream",
     "text": [
      "[[ 1.75224215 -0.07959641 -0.66816143]\n",
      " [ 6.32511211  0.20852018 -4.88340807]\n",
      " [-1.60874439 -0.01457399  1.9058296 ]]\n"
     ]
    }
   ],
   "source": [
    "C = np.transpose(B)\n",
    "print(C)"
   ]
  },
  {
   "cell_type": "code",
   "execution_count": 16,
   "id": "5c9591b5-92e5-4058-8513-98f4b81929bd",
   "metadata": {},
   "outputs": [
    {
     "name": "stdout",
     "output_type": "stream",
     "text": [
      "[2.67859984 0.8684873  0.31950478] [[-0.13609545 -0.399481    0.11196047]\n",
      " [-0.94382393  0.68441325  0.98612041]\n",
      " [ 0.30112194 -0.60991265  0.12260257]]\n"
     ]
    }
   ],
   "source": [
    "from numpy.linalg import eig\n",
    "a,b = eig(C)\n",
    "print(a,b)\n",
    "#eigenvalues and eigenvectors of C"
   ]
  }
 ],
 "metadata": {
  "kernelspec": {
   "display_name": "Python 3 (ipykernel)",
   "language": "python",
   "name": "python3"
  },
  "language_info": {
   "codemirror_mode": {
    "name": "ipython",
    "version": 3
   },
   "file_extension": ".py",
   "mimetype": "text/x-python",
   "name": "python",
   "nbconvert_exporter": "python",
   "pygments_lexer": "ipython3",
   "version": "3.9.16"
  }
 },
 "nbformat": 4,
 "nbformat_minor": 5
}
