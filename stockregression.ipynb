{
 "cells": [
  {
   "cell_type": "code",
   "execution_count": 2,
   "id": "053426a8-793f-4486-9f29-e783301f61b5",
   "metadata": {},
   "outputs": [],
   "source": [
    "import pandas as pd\n",
    "import numpy as np\n",
    "import matplotlib.pyplot as plt\n",
    "import sklearn"
   ]
  },
  {
   "cell_type": "code",
   "execution_count": 4,
   "id": "09c5357e-2780-4f5e-898e-5b3e5d06db76",
   "metadata": {},
   "outputs": [
    {
     "data": {
      "text/html": [
       "<div>\n",
       "<style scoped>\n",
       "    .dataframe tbody tr th:only-of-type {\n",
       "        vertical-align: middle;\n",
       "    }\n",
       "\n",
       "    .dataframe tbody tr th {\n",
       "        vertical-align: top;\n",
       "    }\n",
       "\n",
       "    .dataframe thead th {\n",
       "        text-align: right;\n",
       "    }\n",
       "</style>\n",
       "<table border=\"1\" class=\"dataframe\">\n",
       "  <thead>\n",
       "    <tr style=\"text-align: right;\">\n",
       "      <th></th>\n",
       "      <th>Date</th>\n",
       "      <th>Price</th>\n",
       "      <th>Open</th>\n",
       "      <th>High</th>\n",
       "      <th>Low</th>\n",
       "      <th>Vol.</th>\n",
       "      <th>Change %</th>\n",
       "    </tr>\n",
       "  </thead>\n",
       "  <tbody>\n",
       "    <tr>\n",
       "      <th>0</th>\n",
       "      <td>1980-12-12</td>\n",
       "      <td>0.13</td>\n",
       "      <td>0.13</td>\n",
       "      <td>0.13</td>\n",
       "      <td>0.13</td>\n",
       "      <td>469.03M</td>\n",
       "      <td>-99.88%</td>\n",
       "    </tr>\n",
       "    <tr>\n",
       "      <th>1</th>\n",
       "      <td>1980-12-15</td>\n",
       "      <td>0.12</td>\n",
       "      <td>0.12</td>\n",
       "      <td>0.12</td>\n",
       "      <td>0.12</td>\n",
       "      <td>175.88M</td>\n",
       "      <td>-7.69%</td>\n",
       "    </tr>\n",
       "    <tr>\n",
       "      <th>2</th>\n",
       "      <td>1980-12-16</td>\n",
       "      <td>0.11</td>\n",
       "      <td>0.11</td>\n",
       "      <td>0.11</td>\n",
       "      <td>0.11</td>\n",
       "      <td>105.73M</td>\n",
       "      <td>-8.33%</td>\n",
       "    </tr>\n",
       "    <tr>\n",
       "      <th>3</th>\n",
       "      <td>1980-12-17</td>\n",
       "      <td>0.12</td>\n",
       "      <td>0.12</td>\n",
       "      <td>0.12</td>\n",
       "      <td>0.12</td>\n",
       "      <td>86.44M</td>\n",
       "      <td>9.09%</td>\n",
       "    </tr>\n",
       "    <tr>\n",
       "      <th>4</th>\n",
       "      <td>1980-12-18</td>\n",
       "      <td>0.12</td>\n",
       "      <td>0.12</td>\n",
       "      <td>0.12</td>\n",
       "      <td>0.12</td>\n",
       "      <td>73.45M</td>\n",
       "      <td>0.00%</td>\n",
       "    </tr>\n",
       "    <tr>\n",
       "      <th>...</th>\n",
       "      <td>...</td>\n",
       "      <td>...</td>\n",
       "      <td>...</td>\n",
       "      <td>...</td>\n",
       "      <td>...</td>\n",
       "      <td>...</td>\n",
       "      <td>...</td>\n",
       "    </tr>\n",
       "    <tr>\n",
       "      <th>10685</th>\n",
       "      <td>2023-05-01</td>\n",
       "      <td>169.59</td>\n",
       "      <td>169.28</td>\n",
       "      <td>170.45</td>\n",
       "      <td>168.64</td>\n",
       "      <td>49.39M</td>\n",
       "      <td>-0.05%</td>\n",
       "    </tr>\n",
       "    <tr>\n",
       "      <th>10686</th>\n",
       "      <td>2023-05-02</td>\n",
       "      <td>168.54</td>\n",
       "      <td>170.09</td>\n",
       "      <td>170.35</td>\n",
       "      <td>167.54</td>\n",
       "      <td>48.43M</td>\n",
       "      <td>-0.62%</td>\n",
       "    </tr>\n",
       "    <tr>\n",
       "      <th>10687</th>\n",
       "      <td>2023-05-03</td>\n",
       "      <td>167.45</td>\n",
       "      <td>169.50</td>\n",
       "      <td>170.92</td>\n",
       "      <td>167.16</td>\n",
       "      <td>59.44M</td>\n",
       "      <td>-0.65%</td>\n",
       "    </tr>\n",
       "    <tr>\n",
       "      <th>10688</th>\n",
       "      <td>2023-05-04</td>\n",
       "      <td>165.79</td>\n",
       "      <td>164.89</td>\n",
       "      <td>167.04</td>\n",
       "      <td>164.31</td>\n",
       "      <td>70.38M</td>\n",
       "      <td>-0.99%</td>\n",
       "    </tr>\n",
       "    <tr>\n",
       "      <th>10689</th>\n",
       "      <td>2023-05-05</td>\n",
       "      <td>173.57</td>\n",
       "      <td>170.98</td>\n",
       "      <td>174.30</td>\n",
       "      <td>170.76</td>\n",
       "      <td>112.91M</td>\n",
       "      <td>4.69%</td>\n",
       "    </tr>\n",
       "  </tbody>\n",
       "</table>\n",
       "<p>10690 rows × 7 columns</p>\n",
       "</div>"
      ],
      "text/plain": [
       "             Date   Price    Open    High     Low     Vol. Change %\n",
       "0      1980-12-12    0.13    0.13    0.13    0.13  469.03M  -99.88%\n",
       "1      1980-12-15    0.12    0.12    0.12    0.12  175.88M   -7.69%\n",
       "2      1980-12-16    0.11    0.11    0.11    0.11  105.73M   -8.33%\n",
       "3      1980-12-17    0.12    0.12    0.12    0.12   86.44M    9.09%\n",
       "4      1980-12-18    0.12    0.12    0.12    0.12   73.45M    0.00%\n",
       "...           ...     ...     ...     ...     ...      ...      ...\n",
       "10685  2023-05-01  169.59  169.28  170.45  168.64   49.39M   -0.05%\n",
       "10686  2023-05-02  168.54  170.09  170.35  167.54   48.43M   -0.62%\n",
       "10687  2023-05-03  167.45  169.50  170.92  167.16   59.44M   -0.65%\n",
       "10688  2023-05-04  165.79  164.89  167.04  164.31   70.38M   -0.99%\n",
       "10689  2023-05-05  173.57  170.98  174.30  170.76  112.91M    4.69%\n",
       "\n",
       "[10690 rows x 7 columns]"
      ]
     },
     "execution_count": 4,
     "metadata": {},
     "output_type": "execute_result"
    }
   ],
   "source": [
    "df = pd.read_csv(\"AAPL Historical Data.csv\")\n",
    "df"
   ]
  },
  {
   "cell_type": "code",
   "execution_count": 5,
   "id": "f8ec9c5f-8453-4984-a1e4-e9c617f854f1",
   "metadata": {},
   "outputs": [
    {
     "data": {
      "text/plain": [
       "0.9996899301918497"
      ]
     },
     "execution_count": 5,
     "metadata": {},
     "output_type": "execute_result"
    }
   ],
   "source": [
    "#linear regression\n",
    "from sklearn.linear_model import LinearRegression\n",
    "x = np.array(df[\"Price\"]).reshape(-1,1)\n",
    "y = np.array(df[\"Open\"])\n",
    "\n",
    "linreg = LinearRegression().fit(x,y)\n",
    "linreg.score(x,y)\n"
   ]
  },
  {
   "cell_type": "code",
   "execution_count": 6,
   "id": "e32e1c33-5ad0-410c-a328-1b38b44f966d",
   "metadata": {},
   "outputs": [
    {
     "data": {
      "text/plain": [
       "0.007762053679048364"
      ]
     },
     "execution_count": 6,
     "metadata": {},
     "output_type": "execute_result"
    }
   ],
   "source": [
    "linreg.intercept_"
   ]
  },
  {
   "cell_type": "code",
   "execution_count": 7,
   "id": "d3ef4e8b-96e5-4f21-8e52-975a283176cd",
   "metadata": {},
   "outputs": [
    {
     "data": {
      "text/plain": [
       "array([0.99889458])"
      ]
     },
     "execution_count": 7,
     "metadata": {},
     "output_type": "execute_result"
    }
   ],
   "source": [
    "linreg.coef_"
   ]
  },
  {
   "cell_type": "code",
   "execution_count": 13,
   "id": "4c9c2281-4e83-4e82-ba12-a0c2b4751530",
   "metadata": {},
   "outputs": [
    {
     "data": {
      "text/plain": [
       "0.9998540013042383"
      ]
     },
     "execution_count": 13,
     "metadata": {},
     "output_type": "execute_result"
    }
   ],
   "source": [
    "a = np.array(df[\"Open\"]).reshape(-1,1)\n",
    "b = np.array(df[\"Low\"])\n",
    "\n",
    "reg = LinearRegression().fit(a,b)\n",
    "reg.score(a,b)"
   ]
  },
  {
   "cell_type": "code",
   "execution_count": 14,
   "id": "0d5db3ce-0851-4cb2-9000-0b76343a794f",
   "metadata": {},
   "outputs": [
    {
     "data": {
      "text/plain": [
       "0.006464659622796631"
      ]
     },
     "execution_count": 14,
     "metadata": {},
     "output_type": "execute_result"
    }
   ],
   "source": [
    "reg.intercept_"
   ]
  },
  {
   "cell_type": "code",
   "execution_count": 15,
   "id": "e7a0a6a0-85a0-430c-9cd3-be8237d7ecb3",
   "metadata": {},
   "outputs": [
    {
     "data": {
      "text/plain": [
       "array([0.98858275])"
      ]
     },
     "execution_count": 15,
     "metadata": {},
     "output_type": "execute_result"
    }
   ],
   "source": [
    "reg.coef_"
   ]
  },
  {
   "cell_type": "code",
   "execution_count": null,
   "id": "31085fdd-4e5a-4750-ba90-6936b5d4fa18",
   "metadata": {},
   "outputs": [],
   "source": []
  }
 ],
 "metadata": {
  "kernelspec": {
   "display_name": "Python 3 (ipykernel)",
   "language": "python",
   "name": "python3"
  },
  "language_info": {
   "codemirror_mode": {
    "name": "ipython",
    "version": 3
   },
   "file_extension": ".py",
   "mimetype": "text/x-python",
   "name": "python",
   "nbconvert_exporter": "python",
   "pygments_lexer": "ipython3",
   "version": "3.9.16"
  }
 },
 "nbformat": 4,
 "nbformat_minor": 5
}
