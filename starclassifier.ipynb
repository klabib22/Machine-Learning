{
 "cells": [
  {
   "cell_type": "code",
   "execution_count": 1,
   "id": "99d95296-d18e-4e93-8156-d5f7f2c5f029",
   "metadata": {},
   "outputs": [],
   "source": [
    "import pandas as pd\n",
    "import sklearn\n",
    "import numpy as np\n",
    "import matplotlib.pyplot as plt"
   ]
  },
  {
   "cell_type": "code",
   "execution_count": 2,
   "id": "ff5fd3c0-40f7-408d-b77d-8f444fe1b917",
   "metadata": {},
   "outputs": [
    {
     "data": {
      "text/html": [
       "<div>\n",
       "<style scoped>\n",
       "    .dataframe tbody tr th:only-of-type {\n",
       "        vertical-align: middle;\n",
       "    }\n",
       "\n",
       "    .dataframe tbody tr th {\n",
       "        vertical-align: top;\n",
       "    }\n",
       "\n",
       "    .dataframe thead th {\n",
       "        text-align: right;\n",
       "    }\n",
       "</style>\n",
       "<table border=\"1\" class=\"dataframe\">\n",
       "  <thead>\n",
       "    <tr style=\"text-align: right;\">\n",
       "      <th></th>\n",
       "      <th>obj_ID</th>\n",
       "      <th>alpha</th>\n",
       "      <th>delta</th>\n",
       "      <th>u</th>\n",
       "      <th>g</th>\n",
       "      <th>r</th>\n",
       "      <th>i</th>\n",
       "      <th>z</th>\n",
       "      <th>run_ID</th>\n",
       "      <th>rerun_ID</th>\n",
       "      <th>cam_col</th>\n",
       "      <th>field_ID</th>\n",
       "      <th>spec_obj_ID</th>\n",
       "      <th>class</th>\n",
       "      <th>redshift</th>\n",
       "      <th>plate</th>\n",
       "      <th>MJD</th>\n",
       "      <th>fiber_ID</th>\n",
       "    </tr>\n",
       "  </thead>\n",
       "  <tbody>\n",
       "    <tr>\n",
       "      <th>0</th>\n",
       "      <td>1.237660e+18</td>\n",
       "      <td>135.689107</td>\n",
       "      <td>32.494632</td>\n",
       "      <td>23.87882</td>\n",
       "      <td>22.27530</td>\n",
       "      <td>20.39501</td>\n",
       "      <td>19.16573</td>\n",
       "      <td>18.79371</td>\n",
       "      <td>3606</td>\n",
       "      <td>301</td>\n",
       "      <td>2</td>\n",
       "      <td>79</td>\n",
       "      <td>6.543780e+18</td>\n",
       "      <td>GALAXY</td>\n",
       "      <td>0.634794</td>\n",
       "      <td>5812</td>\n",
       "      <td>56354</td>\n",
       "      <td>171</td>\n",
       "    </tr>\n",
       "    <tr>\n",
       "      <th>1</th>\n",
       "      <td>1.237660e+18</td>\n",
       "      <td>144.826101</td>\n",
       "      <td>31.274185</td>\n",
       "      <td>24.77759</td>\n",
       "      <td>22.83188</td>\n",
       "      <td>22.58444</td>\n",
       "      <td>21.16812</td>\n",
       "      <td>21.61427</td>\n",
       "      <td>4518</td>\n",
       "      <td>301</td>\n",
       "      <td>5</td>\n",
       "      <td>119</td>\n",
       "      <td>1.176010e+19</td>\n",
       "      <td>GALAXY</td>\n",
       "      <td>0.779136</td>\n",
       "      <td>10445</td>\n",
       "      <td>58158</td>\n",
       "      <td>427</td>\n",
       "    </tr>\n",
       "    <tr>\n",
       "      <th>2</th>\n",
       "      <td>1.237660e+18</td>\n",
       "      <td>142.188790</td>\n",
       "      <td>35.582444</td>\n",
       "      <td>25.26307</td>\n",
       "      <td>22.66389</td>\n",
       "      <td>20.60976</td>\n",
       "      <td>19.34857</td>\n",
       "      <td>18.94827</td>\n",
       "      <td>3606</td>\n",
       "      <td>301</td>\n",
       "      <td>2</td>\n",
       "      <td>120</td>\n",
       "      <td>5.152200e+18</td>\n",
       "      <td>GALAXY</td>\n",
       "      <td>0.644195</td>\n",
       "      <td>4576</td>\n",
       "      <td>55592</td>\n",
       "      <td>299</td>\n",
       "    </tr>\n",
       "    <tr>\n",
       "      <th>3</th>\n",
       "      <td>1.237660e+18</td>\n",
       "      <td>338.741038</td>\n",
       "      <td>-0.402828</td>\n",
       "      <td>22.13682</td>\n",
       "      <td>23.77656</td>\n",
       "      <td>21.61162</td>\n",
       "      <td>20.50454</td>\n",
       "      <td>19.25010</td>\n",
       "      <td>4192</td>\n",
       "      <td>301</td>\n",
       "      <td>3</td>\n",
       "      <td>214</td>\n",
       "      <td>1.030110e+19</td>\n",
       "      <td>GALAXY</td>\n",
       "      <td>0.932346</td>\n",
       "      <td>9149</td>\n",
       "      <td>58039</td>\n",
       "      <td>775</td>\n",
       "    </tr>\n",
       "    <tr>\n",
       "      <th>4</th>\n",
       "      <td>1.237680e+18</td>\n",
       "      <td>345.282593</td>\n",
       "      <td>21.183866</td>\n",
       "      <td>19.43718</td>\n",
       "      <td>17.58028</td>\n",
       "      <td>16.49747</td>\n",
       "      <td>15.97711</td>\n",
       "      <td>15.54461</td>\n",
       "      <td>8102</td>\n",
       "      <td>301</td>\n",
       "      <td>3</td>\n",
       "      <td>137</td>\n",
       "      <td>6.891860e+18</td>\n",
       "      <td>GALAXY</td>\n",
       "      <td>0.116123</td>\n",
       "      <td>6121</td>\n",
       "      <td>56187</td>\n",
       "      <td>842</td>\n",
       "    </tr>\n",
       "    <tr>\n",
       "      <th>...</th>\n",
       "      <td>...</td>\n",
       "      <td>...</td>\n",
       "      <td>...</td>\n",
       "      <td>...</td>\n",
       "      <td>...</td>\n",
       "      <td>...</td>\n",
       "      <td>...</td>\n",
       "      <td>...</td>\n",
       "      <td>...</td>\n",
       "      <td>...</td>\n",
       "      <td>...</td>\n",
       "      <td>...</td>\n",
       "      <td>...</td>\n",
       "      <td>...</td>\n",
       "      <td>...</td>\n",
       "      <td>...</td>\n",
       "      <td>...</td>\n",
       "      <td>...</td>\n",
       "    </tr>\n",
       "    <tr>\n",
       "      <th>99995</th>\n",
       "      <td>1.237680e+18</td>\n",
       "      <td>39.620709</td>\n",
       "      <td>-2.594074</td>\n",
       "      <td>22.16759</td>\n",
       "      <td>22.97586</td>\n",
       "      <td>21.90404</td>\n",
       "      <td>21.30548</td>\n",
       "      <td>20.73569</td>\n",
       "      <td>7778</td>\n",
       "      <td>301</td>\n",
       "      <td>2</td>\n",
       "      <td>581</td>\n",
       "      <td>1.060000e+19</td>\n",
       "      <td>GALAXY</td>\n",
       "      <td>0.000000</td>\n",
       "      <td>9374</td>\n",
       "      <td>57749</td>\n",
       "      <td>438</td>\n",
       "    </tr>\n",
       "    <tr>\n",
       "      <th>99996</th>\n",
       "      <td>1.237680e+18</td>\n",
       "      <td>29.493819</td>\n",
       "      <td>19.798874</td>\n",
       "      <td>22.69118</td>\n",
       "      <td>22.38628</td>\n",
       "      <td>20.45003</td>\n",
       "      <td>19.75759</td>\n",
       "      <td>19.41526</td>\n",
       "      <td>7917</td>\n",
       "      <td>301</td>\n",
       "      <td>1</td>\n",
       "      <td>289</td>\n",
       "      <td>8.586350e+18</td>\n",
       "      <td>GALAXY</td>\n",
       "      <td>0.404895</td>\n",
       "      <td>7626</td>\n",
       "      <td>56934</td>\n",
       "      <td>866</td>\n",
       "    </tr>\n",
       "    <tr>\n",
       "      <th>99997</th>\n",
       "      <td>1.237670e+18</td>\n",
       "      <td>224.587407</td>\n",
       "      <td>15.700707</td>\n",
       "      <td>21.16916</td>\n",
       "      <td>19.26997</td>\n",
       "      <td>18.20428</td>\n",
       "      <td>17.69034</td>\n",
       "      <td>17.35221</td>\n",
       "      <td>5314</td>\n",
       "      <td>301</td>\n",
       "      <td>4</td>\n",
       "      <td>308</td>\n",
       "      <td>3.112010e+18</td>\n",
       "      <td>GALAXY</td>\n",
       "      <td>0.143366</td>\n",
       "      <td>2764</td>\n",
       "      <td>54535</td>\n",
       "      <td>74</td>\n",
       "    </tr>\n",
       "    <tr>\n",
       "      <th>99998</th>\n",
       "      <td>1.237660e+18</td>\n",
       "      <td>212.268621</td>\n",
       "      <td>46.660365</td>\n",
       "      <td>25.35039</td>\n",
       "      <td>21.63757</td>\n",
       "      <td>19.91386</td>\n",
       "      <td>19.07254</td>\n",
       "      <td>18.62482</td>\n",
       "      <td>3650</td>\n",
       "      <td>301</td>\n",
       "      <td>4</td>\n",
       "      <td>131</td>\n",
       "      <td>7.601080e+18</td>\n",
       "      <td>GALAXY</td>\n",
       "      <td>0.455040</td>\n",
       "      <td>6751</td>\n",
       "      <td>56368</td>\n",
       "      <td>470</td>\n",
       "    </tr>\n",
       "    <tr>\n",
       "      <th>99999</th>\n",
       "      <td>1.237660e+18</td>\n",
       "      <td>196.896053</td>\n",
       "      <td>49.464643</td>\n",
       "      <td>22.62171</td>\n",
       "      <td>21.79745</td>\n",
       "      <td>20.60115</td>\n",
       "      <td>20.00959</td>\n",
       "      <td>19.28075</td>\n",
       "      <td>3650</td>\n",
       "      <td>301</td>\n",
       "      <td>4</td>\n",
       "      <td>60</td>\n",
       "      <td>8.343150e+18</td>\n",
       "      <td>GALAXY</td>\n",
       "      <td>0.542944</td>\n",
       "      <td>7410</td>\n",
       "      <td>57104</td>\n",
       "      <td>851</td>\n",
       "    </tr>\n",
       "  </tbody>\n",
       "</table>\n",
       "<p>100000 rows × 18 columns</p>\n",
       "</div>"
      ],
      "text/plain": [
       "             obj_ID       alpha      delta         u         g         r  \\\n",
       "0      1.237660e+18  135.689107  32.494632  23.87882  22.27530  20.39501   \n",
       "1      1.237660e+18  144.826101  31.274185  24.77759  22.83188  22.58444   \n",
       "2      1.237660e+18  142.188790  35.582444  25.26307  22.66389  20.60976   \n",
       "3      1.237660e+18  338.741038  -0.402828  22.13682  23.77656  21.61162   \n",
       "4      1.237680e+18  345.282593  21.183866  19.43718  17.58028  16.49747   \n",
       "...             ...         ...        ...       ...       ...       ...   \n",
       "99995  1.237680e+18   39.620709  -2.594074  22.16759  22.97586  21.90404   \n",
       "99996  1.237680e+18   29.493819  19.798874  22.69118  22.38628  20.45003   \n",
       "99997  1.237670e+18  224.587407  15.700707  21.16916  19.26997  18.20428   \n",
       "99998  1.237660e+18  212.268621  46.660365  25.35039  21.63757  19.91386   \n",
       "99999  1.237660e+18  196.896053  49.464643  22.62171  21.79745  20.60115   \n",
       "\n",
       "              i         z  run_ID  rerun_ID  cam_col  field_ID   spec_obj_ID  \\\n",
       "0      19.16573  18.79371    3606       301        2        79  6.543780e+18   \n",
       "1      21.16812  21.61427    4518       301        5       119  1.176010e+19   \n",
       "2      19.34857  18.94827    3606       301        2       120  5.152200e+18   \n",
       "3      20.50454  19.25010    4192       301        3       214  1.030110e+19   \n",
       "4      15.97711  15.54461    8102       301        3       137  6.891860e+18   \n",
       "...         ...       ...     ...       ...      ...       ...           ...   \n",
       "99995  21.30548  20.73569    7778       301        2       581  1.060000e+19   \n",
       "99996  19.75759  19.41526    7917       301        1       289  8.586350e+18   \n",
       "99997  17.69034  17.35221    5314       301        4       308  3.112010e+18   \n",
       "99998  19.07254  18.62482    3650       301        4       131  7.601080e+18   \n",
       "99999  20.00959  19.28075    3650       301        4        60  8.343150e+18   \n",
       "\n",
       "        class  redshift  plate    MJD  fiber_ID  \n",
       "0      GALAXY  0.634794   5812  56354       171  \n",
       "1      GALAXY  0.779136  10445  58158       427  \n",
       "2      GALAXY  0.644195   4576  55592       299  \n",
       "3      GALAXY  0.932346   9149  58039       775  \n",
       "4      GALAXY  0.116123   6121  56187       842  \n",
       "...       ...       ...    ...    ...       ...  \n",
       "99995  GALAXY  0.000000   9374  57749       438  \n",
       "99996  GALAXY  0.404895   7626  56934       866  \n",
       "99997  GALAXY  0.143366   2764  54535        74  \n",
       "99998  GALAXY  0.455040   6751  56368       470  \n",
       "99999  GALAXY  0.542944   7410  57104       851  \n",
       "\n",
       "[100000 rows x 18 columns]"
      ]
     },
     "execution_count": 2,
     "metadata": {},
     "output_type": "execute_result"
    }
   ],
   "source": [
    "stars = pd.read_csv(\"star_classification.csv\")\n",
    "stars"
   ]
  },
  {
   "cell_type": "code",
   "execution_count": 3,
   "id": "e68f29d5-57ca-4934-a053-54da4c5cde7d",
   "metadata": {},
   "outputs": [
    {
     "data": {
      "text/html": [
       "<div>\n",
       "<style scoped>\n",
       "    .dataframe tbody tr th:only-of-type {\n",
       "        vertical-align: middle;\n",
       "    }\n",
       "\n",
       "    .dataframe tbody tr th {\n",
       "        vertical-align: top;\n",
       "    }\n",
       "\n",
       "    .dataframe thead th {\n",
       "        text-align: right;\n",
       "    }\n",
       "</style>\n",
       "<table border=\"1\" class=\"dataframe\">\n",
       "  <thead>\n",
       "    <tr style=\"text-align: right;\">\n",
       "      <th></th>\n",
       "      <th>obj_ID</th>\n",
       "      <th>alpha</th>\n",
       "      <th>delta</th>\n",
       "      <th>u</th>\n",
       "      <th>g</th>\n",
       "      <th>r</th>\n",
       "      <th>i</th>\n",
       "      <th>z</th>\n",
       "      <th>run_ID</th>\n",
       "      <th>rerun_ID</th>\n",
       "      <th>cam_col</th>\n",
       "      <th>field_ID</th>\n",
       "      <th>spec_obj_ID</th>\n",
       "      <th>class</th>\n",
       "      <th>redshift</th>\n",
       "      <th>plate</th>\n",
       "      <th>MJD</th>\n",
       "      <th>fiber_ID</th>\n",
       "    </tr>\n",
       "  </thead>\n",
       "  <tbody>\n",
       "    <tr>\n",
       "      <th>99995</th>\n",
       "      <td>1.237680e+18</td>\n",
       "      <td>39.620709</td>\n",
       "      <td>-2.594074</td>\n",
       "      <td>22.16759</td>\n",
       "      <td>22.97586</td>\n",
       "      <td>21.90404</td>\n",
       "      <td>21.30548</td>\n",
       "      <td>20.73569</td>\n",
       "      <td>7778</td>\n",
       "      <td>301</td>\n",
       "      <td>2</td>\n",
       "      <td>581</td>\n",
       "      <td>1.060000e+19</td>\n",
       "      <td>GALAXY</td>\n",
       "      <td>0.000000</td>\n",
       "      <td>9374</td>\n",
       "      <td>57749</td>\n",
       "      <td>438</td>\n",
       "    </tr>\n",
       "    <tr>\n",
       "      <th>99996</th>\n",
       "      <td>1.237680e+18</td>\n",
       "      <td>29.493819</td>\n",
       "      <td>19.798874</td>\n",
       "      <td>22.69118</td>\n",
       "      <td>22.38628</td>\n",
       "      <td>20.45003</td>\n",
       "      <td>19.75759</td>\n",
       "      <td>19.41526</td>\n",
       "      <td>7917</td>\n",
       "      <td>301</td>\n",
       "      <td>1</td>\n",
       "      <td>289</td>\n",
       "      <td>8.586350e+18</td>\n",
       "      <td>GALAXY</td>\n",
       "      <td>0.404895</td>\n",
       "      <td>7626</td>\n",
       "      <td>56934</td>\n",
       "      <td>866</td>\n",
       "    </tr>\n",
       "    <tr>\n",
       "      <th>99997</th>\n",
       "      <td>1.237670e+18</td>\n",
       "      <td>224.587407</td>\n",
       "      <td>15.700707</td>\n",
       "      <td>21.16916</td>\n",
       "      <td>19.26997</td>\n",
       "      <td>18.20428</td>\n",
       "      <td>17.69034</td>\n",
       "      <td>17.35221</td>\n",
       "      <td>5314</td>\n",
       "      <td>301</td>\n",
       "      <td>4</td>\n",
       "      <td>308</td>\n",
       "      <td>3.112010e+18</td>\n",
       "      <td>GALAXY</td>\n",
       "      <td>0.143366</td>\n",
       "      <td>2764</td>\n",
       "      <td>54535</td>\n",
       "      <td>74</td>\n",
       "    </tr>\n",
       "    <tr>\n",
       "      <th>99998</th>\n",
       "      <td>1.237660e+18</td>\n",
       "      <td>212.268621</td>\n",
       "      <td>46.660365</td>\n",
       "      <td>25.35039</td>\n",
       "      <td>21.63757</td>\n",
       "      <td>19.91386</td>\n",
       "      <td>19.07254</td>\n",
       "      <td>18.62482</td>\n",
       "      <td>3650</td>\n",
       "      <td>301</td>\n",
       "      <td>4</td>\n",
       "      <td>131</td>\n",
       "      <td>7.601080e+18</td>\n",
       "      <td>GALAXY</td>\n",
       "      <td>0.455040</td>\n",
       "      <td>6751</td>\n",
       "      <td>56368</td>\n",
       "      <td>470</td>\n",
       "    </tr>\n",
       "    <tr>\n",
       "      <th>99999</th>\n",
       "      <td>1.237660e+18</td>\n",
       "      <td>196.896053</td>\n",
       "      <td>49.464643</td>\n",
       "      <td>22.62171</td>\n",
       "      <td>21.79745</td>\n",
       "      <td>20.60115</td>\n",
       "      <td>20.00959</td>\n",
       "      <td>19.28075</td>\n",
       "      <td>3650</td>\n",
       "      <td>301</td>\n",
       "      <td>4</td>\n",
       "      <td>60</td>\n",
       "      <td>8.343150e+18</td>\n",
       "      <td>GALAXY</td>\n",
       "      <td>0.542944</td>\n",
       "      <td>7410</td>\n",
       "      <td>57104</td>\n",
       "      <td>851</td>\n",
       "    </tr>\n",
       "  </tbody>\n",
       "</table>\n",
       "</div>"
      ],
      "text/plain": [
       "             obj_ID       alpha      delta         u         g         r  \\\n",
       "99995  1.237680e+18   39.620709  -2.594074  22.16759  22.97586  21.90404   \n",
       "99996  1.237680e+18   29.493819  19.798874  22.69118  22.38628  20.45003   \n",
       "99997  1.237670e+18  224.587407  15.700707  21.16916  19.26997  18.20428   \n",
       "99998  1.237660e+18  212.268621  46.660365  25.35039  21.63757  19.91386   \n",
       "99999  1.237660e+18  196.896053  49.464643  22.62171  21.79745  20.60115   \n",
       "\n",
       "              i         z  run_ID  rerun_ID  cam_col  field_ID   spec_obj_ID  \\\n",
       "99995  21.30548  20.73569    7778       301        2       581  1.060000e+19   \n",
       "99996  19.75759  19.41526    7917       301        1       289  8.586350e+18   \n",
       "99997  17.69034  17.35221    5314       301        4       308  3.112010e+18   \n",
       "99998  19.07254  18.62482    3650       301        4       131  7.601080e+18   \n",
       "99999  20.00959  19.28075    3650       301        4        60  8.343150e+18   \n",
       "\n",
       "        class  redshift  plate    MJD  fiber_ID  \n",
       "99995  GALAXY  0.000000   9374  57749       438  \n",
       "99996  GALAXY  0.404895   7626  56934       866  \n",
       "99997  GALAXY  0.143366   2764  54535        74  \n",
       "99998  GALAXY  0.455040   6751  56368       470  \n",
       "99999  GALAXY  0.542944   7410  57104       851  "
      ]
     },
     "execution_count": 3,
     "metadata": {},
     "output_type": "execute_result"
    }
   ],
   "source": [
    "stars.tail()"
   ]
  },
  {
   "cell_type": "code",
   "execution_count": 4,
   "id": "1dc24738-d758-49d6-a52a-8a839597ad6b",
   "metadata": {},
   "outputs": [
    {
     "data": {
      "text/html": [
       "<div>\n",
       "<style scoped>\n",
       "    .dataframe tbody tr th:only-of-type {\n",
       "        vertical-align: middle;\n",
       "    }\n",
       "\n",
       "    .dataframe tbody tr th {\n",
       "        vertical-align: top;\n",
       "    }\n",
       "\n",
       "    .dataframe thead th {\n",
       "        text-align: right;\n",
       "    }\n",
       "</style>\n",
       "<table border=\"1\" class=\"dataframe\">\n",
       "  <thead>\n",
       "    <tr style=\"text-align: right;\">\n",
       "      <th></th>\n",
       "      <th>obj_ID</th>\n",
       "      <th>alpha</th>\n",
       "      <th>delta</th>\n",
       "      <th>u</th>\n",
       "      <th>g</th>\n",
       "      <th>r</th>\n",
       "      <th>i</th>\n",
       "      <th>z</th>\n",
       "      <th>run_ID</th>\n",
       "      <th>rerun_ID</th>\n",
       "      <th>cam_col</th>\n",
       "      <th>field_ID</th>\n",
       "      <th>spec_obj_ID</th>\n",
       "      <th>class</th>\n",
       "      <th>redshift</th>\n",
       "      <th>plate</th>\n",
       "      <th>MJD</th>\n",
       "      <th>fiber_ID</th>\n",
       "    </tr>\n",
       "  </thead>\n",
       "  <tbody>\n",
       "    <tr>\n",
       "      <th>99900</th>\n",
       "      <td>1.237680e+18</td>\n",
       "      <td>352.879980</td>\n",
       "      <td>27.433579</td>\n",
       "      <td>19.77479</td>\n",
       "      <td>19.29704</td>\n",
       "      <td>19.18981</td>\n",
       "      <td>19.16206</td>\n",
       "      <td>19.01953</td>\n",
       "      <td>8103</td>\n",
       "      <td>301</td>\n",
       "      <td>5</td>\n",
       "      <td>54</td>\n",
       "      <td>7.094480e+18</td>\n",
       "      <td>QSO</td>\n",
       "      <td>2.551272</td>\n",
       "      <td>6301</td>\n",
       "      <td>56543</td>\n",
       "      <td>682</td>\n",
       "    </tr>\n",
       "    <tr>\n",
       "      <th>99901</th>\n",
       "      <td>1.237660e+18</td>\n",
       "      <td>244.012521</td>\n",
       "      <td>33.050380</td>\n",
       "      <td>21.06252</td>\n",
       "      <td>19.25307</td>\n",
       "      <td>18.97302</td>\n",
       "      <td>19.05668</td>\n",
       "      <td>19.16426</td>\n",
       "      <td>3918</td>\n",
       "      <td>301</td>\n",
       "      <td>2</td>\n",
       "      <td>313</td>\n",
       "      <td>5.584530e+18</td>\n",
       "      <td>STAR</td>\n",
       "      <td>-0.000118</td>\n",
       "      <td>4960</td>\n",
       "      <td>55747</td>\n",
       "      <td>224</td>\n",
       "    </tr>\n",
       "    <tr>\n",
       "      <th>99902</th>\n",
       "      <td>1.237650e+18</td>\n",
       "      <td>167.521582</td>\n",
       "      <td>3.476030</td>\n",
       "      <td>17.78492</td>\n",
       "      <td>16.20104</td>\n",
       "      <td>15.32155</td>\n",
       "      <td>14.87348</td>\n",
       "      <td>14.53700</td>\n",
       "      <td>1992</td>\n",
       "      <td>301</td>\n",
       "      <td>6</td>\n",
       "      <td>118</td>\n",
       "      <td>6.541610e+17</td>\n",
       "      <td>GALAXY</td>\n",
       "      <td>0.040042</td>\n",
       "      <td>581</td>\n",
       "      <td>52356</td>\n",
       "      <td>46</td>\n",
       "    </tr>\n",
       "    <tr>\n",
       "      <th>99903</th>\n",
       "      <td>1.237660e+18</td>\n",
       "      <td>20.996732</td>\n",
       "      <td>0.662911</td>\n",
       "      <td>22.39716</td>\n",
       "      <td>22.14314</td>\n",
       "      <td>21.87024</td>\n",
       "      <td>21.91344</td>\n",
       "      <td>23.66613</td>\n",
       "      <td>4128</td>\n",
       "      <td>301</td>\n",
       "      <td>5</td>\n",
       "      <td>263</td>\n",
       "      <td>1.057800e+19</td>\n",
       "      <td>GALAXY</td>\n",
       "      <td>0.808890</td>\n",
       "      <td>9395</td>\n",
       "      <td>58113</td>\n",
       "      <td>590</td>\n",
       "    </tr>\n",
       "    <tr>\n",
       "      <th>99904</th>\n",
       "      <td>1.237660e+18</td>\n",
       "      <td>138.769656</td>\n",
       "      <td>31.020056</td>\n",
       "      <td>21.80558</td>\n",
       "      <td>20.47592</td>\n",
       "      <td>18.68070</td>\n",
       "      <td>18.04094</td>\n",
       "      <td>17.56351</td>\n",
       "      <td>3704</td>\n",
       "      <td>301</td>\n",
       "      <td>1</td>\n",
       "      <td>47</td>\n",
       "      <td>6.539360e+18</td>\n",
       "      <td>GALAXY</td>\n",
       "      <td>0.306127</td>\n",
       "      <td>5808</td>\n",
       "      <td>56325</td>\n",
       "      <td>492</td>\n",
       "    </tr>\n",
       "    <tr>\n",
       "      <th>...</th>\n",
       "      <td>...</td>\n",
       "      <td>...</td>\n",
       "      <td>...</td>\n",
       "      <td>...</td>\n",
       "      <td>...</td>\n",
       "      <td>...</td>\n",
       "      <td>...</td>\n",
       "      <td>...</td>\n",
       "      <td>...</td>\n",
       "      <td>...</td>\n",
       "      <td>...</td>\n",
       "      <td>...</td>\n",
       "      <td>...</td>\n",
       "      <td>...</td>\n",
       "      <td>...</td>\n",
       "      <td>...</td>\n",
       "      <td>...</td>\n",
       "      <td>...</td>\n",
       "    </tr>\n",
       "    <tr>\n",
       "      <th>99995</th>\n",
       "      <td>1.237680e+18</td>\n",
       "      <td>39.620709</td>\n",
       "      <td>-2.594074</td>\n",
       "      <td>22.16759</td>\n",
       "      <td>22.97586</td>\n",
       "      <td>21.90404</td>\n",
       "      <td>21.30548</td>\n",
       "      <td>20.73569</td>\n",
       "      <td>7778</td>\n",
       "      <td>301</td>\n",
       "      <td>2</td>\n",
       "      <td>581</td>\n",
       "      <td>1.060000e+19</td>\n",
       "      <td>GALAXY</td>\n",
       "      <td>0.000000</td>\n",
       "      <td>9374</td>\n",
       "      <td>57749</td>\n",
       "      <td>438</td>\n",
       "    </tr>\n",
       "    <tr>\n",
       "      <th>99996</th>\n",
       "      <td>1.237680e+18</td>\n",
       "      <td>29.493819</td>\n",
       "      <td>19.798874</td>\n",
       "      <td>22.69118</td>\n",
       "      <td>22.38628</td>\n",
       "      <td>20.45003</td>\n",
       "      <td>19.75759</td>\n",
       "      <td>19.41526</td>\n",
       "      <td>7917</td>\n",
       "      <td>301</td>\n",
       "      <td>1</td>\n",
       "      <td>289</td>\n",
       "      <td>8.586350e+18</td>\n",
       "      <td>GALAXY</td>\n",
       "      <td>0.404895</td>\n",
       "      <td>7626</td>\n",
       "      <td>56934</td>\n",
       "      <td>866</td>\n",
       "    </tr>\n",
       "    <tr>\n",
       "      <th>99997</th>\n",
       "      <td>1.237670e+18</td>\n",
       "      <td>224.587407</td>\n",
       "      <td>15.700707</td>\n",
       "      <td>21.16916</td>\n",
       "      <td>19.26997</td>\n",
       "      <td>18.20428</td>\n",
       "      <td>17.69034</td>\n",
       "      <td>17.35221</td>\n",
       "      <td>5314</td>\n",
       "      <td>301</td>\n",
       "      <td>4</td>\n",
       "      <td>308</td>\n",
       "      <td>3.112010e+18</td>\n",
       "      <td>GALAXY</td>\n",
       "      <td>0.143366</td>\n",
       "      <td>2764</td>\n",
       "      <td>54535</td>\n",
       "      <td>74</td>\n",
       "    </tr>\n",
       "    <tr>\n",
       "      <th>99998</th>\n",
       "      <td>1.237660e+18</td>\n",
       "      <td>212.268621</td>\n",
       "      <td>46.660365</td>\n",
       "      <td>25.35039</td>\n",
       "      <td>21.63757</td>\n",
       "      <td>19.91386</td>\n",
       "      <td>19.07254</td>\n",
       "      <td>18.62482</td>\n",
       "      <td>3650</td>\n",
       "      <td>301</td>\n",
       "      <td>4</td>\n",
       "      <td>131</td>\n",
       "      <td>7.601080e+18</td>\n",
       "      <td>GALAXY</td>\n",
       "      <td>0.455040</td>\n",
       "      <td>6751</td>\n",
       "      <td>56368</td>\n",
       "      <td>470</td>\n",
       "    </tr>\n",
       "    <tr>\n",
       "      <th>99999</th>\n",
       "      <td>1.237660e+18</td>\n",
       "      <td>196.896053</td>\n",
       "      <td>49.464643</td>\n",
       "      <td>22.62171</td>\n",
       "      <td>21.79745</td>\n",
       "      <td>20.60115</td>\n",
       "      <td>20.00959</td>\n",
       "      <td>19.28075</td>\n",
       "      <td>3650</td>\n",
       "      <td>301</td>\n",
       "      <td>4</td>\n",
       "      <td>60</td>\n",
       "      <td>8.343150e+18</td>\n",
       "      <td>GALAXY</td>\n",
       "      <td>0.542944</td>\n",
       "      <td>7410</td>\n",
       "      <td>57104</td>\n",
       "      <td>851</td>\n",
       "    </tr>\n",
       "  </tbody>\n",
       "</table>\n",
       "<p>100 rows × 18 columns</p>\n",
       "</div>"
      ],
      "text/plain": [
       "             obj_ID       alpha      delta         u         g         r  \\\n",
       "99900  1.237680e+18  352.879980  27.433579  19.77479  19.29704  19.18981   \n",
       "99901  1.237660e+18  244.012521  33.050380  21.06252  19.25307  18.97302   \n",
       "99902  1.237650e+18  167.521582   3.476030  17.78492  16.20104  15.32155   \n",
       "99903  1.237660e+18   20.996732   0.662911  22.39716  22.14314  21.87024   \n",
       "99904  1.237660e+18  138.769656  31.020056  21.80558  20.47592  18.68070   \n",
       "...             ...         ...        ...       ...       ...       ...   \n",
       "99995  1.237680e+18   39.620709  -2.594074  22.16759  22.97586  21.90404   \n",
       "99996  1.237680e+18   29.493819  19.798874  22.69118  22.38628  20.45003   \n",
       "99997  1.237670e+18  224.587407  15.700707  21.16916  19.26997  18.20428   \n",
       "99998  1.237660e+18  212.268621  46.660365  25.35039  21.63757  19.91386   \n",
       "99999  1.237660e+18  196.896053  49.464643  22.62171  21.79745  20.60115   \n",
       "\n",
       "              i         z  run_ID  rerun_ID  cam_col  field_ID   spec_obj_ID  \\\n",
       "99900  19.16206  19.01953    8103       301        5        54  7.094480e+18   \n",
       "99901  19.05668  19.16426    3918       301        2       313  5.584530e+18   \n",
       "99902  14.87348  14.53700    1992       301        6       118  6.541610e+17   \n",
       "99903  21.91344  23.66613    4128       301        5       263  1.057800e+19   \n",
       "99904  18.04094  17.56351    3704       301        1        47  6.539360e+18   \n",
       "...         ...       ...     ...       ...      ...       ...           ...   \n",
       "99995  21.30548  20.73569    7778       301        2       581  1.060000e+19   \n",
       "99996  19.75759  19.41526    7917       301        1       289  8.586350e+18   \n",
       "99997  17.69034  17.35221    5314       301        4       308  3.112010e+18   \n",
       "99998  19.07254  18.62482    3650       301        4       131  7.601080e+18   \n",
       "99999  20.00959  19.28075    3650       301        4        60  8.343150e+18   \n",
       "\n",
       "        class  redshift  plate    MJD  fiber_ID  \n",
       "99900     QSO  2.551272   6301  56543       682  \n",
       "99901    STAR -0.000118   4960  55747       224  \n",
       "99902  GALAXY  0.040042    581  52356        46  \n",
       "99903  GALAXY  0.808890   9395  58113       590  \n",
       "99904  GALAXY  0.306127   5808  56325       492  \n",
       "...       ...       ...    ...    ...       ...  \n",
       "99995  GALAXY  0.000000   9374  57749       438  \n",
       "99996  GALAXY  0.404895   7626  56934       866  \n",
       "99997  GALAXY  0.143366   2764  54535        74  \n",
       "99998  GALAXY  0.455040   6751  56368       470  \n",
       "99999  GALAXY  0.542944   7410  57104       851  \n",
       "\n",
       "[100 rows x 18 columns]"
      ]
     },
     "execution_count": 4,
     "metadata": {},
     "output_type": "execute_result"
    }
   ],
   "source": [
    "stars.tail(100)"
   ]
  },
  {
   "cell_type": "code",
   "execution_count": 5,
   "id": "6a49d769-9e59-4e8c-8fd8-581d9cb99553",
   "metadata": {},
   "outputs": [],
   "source": [
    "df = stars.drop(\"obj_ID\",axis = 1)"
   ]
  },
  {
   "cell_type": "code",
   "execution_count": 6,
   "id": "1f72d0f2-0e33-43b5-9bb5-ab84f1d07fdf",
   "metadata": {},
   "outputs": [],
   "source": [
    "df = df.drop([\"run_ID\",\"rerun_ID\",\"cam_col\",\"fiber_ID\",\"plate\"],axis = 1)"
   ]
  },
  {
   "cell_type": "code",
   "execution_count": 7,
   "id": "23e5dc57-affb-4081-9ead-0b13fb430bc2",
   "metadata": {},
   "outputs": [
    {
     "name": "stdout",
     "output_type": "stream",
     "text": [
      "            alpha      delta         u         g         r         i  \\\n",
      "0      135.689107  32.494632  23.87882  22.27530  20.39501  19.16573   \n",
      "1      144.826101  31.274185  24.77759  22.83188  22.58444  21.16812   \n",
      "2      142.188790  35.582444  25.26307  22.66389  20.60976  19.34857   \n",
      "3      338.741038  -0.402828  22.13682  23.77656  21.61162  20.50454   \n",
      "4      345.282593  21.183866  19.43718  17.58028  16.49747  15.97711   \n",
      "...           ...        ...       ...       ...       ...       ...   \n",
      "99995   39.620709  -2.594074  22.16759  22.97586  21.90404  21.30548   \n",
      "99996   29.493819  19.798874  22.69118  22.38628  20.45003  19.75759   \n",
      "99997  224.587407  15.700707  21.16916  19.26997  18.20428  17.69034   \n",
      "99998  212.268621  46.660365  25.35039  21.63757  19.91386  19.07254   \n",
      "99999  196.896053  49.464643  22.62171  21.79745  20.60115  20.00959   \n",
      "\n",
      "              z  field_ID   spec_obj_ID   class  redshift    MJD  \n",
      "0      18.79371        79  6.543780e+18  GALAXY  0.634794  56354  \n",
      "1      21.61427       119  1.176010e+19  GALAXY  0.779136  58158  \n",
      "2      18.94827       120  5.152200e+18  GALAXY  0.644195  55592  \n",
      "3      19.25010       214  1.030110e+19  GALAXY  0.932346  58039  \n",
      "4      15.54461       137  6.891860e+18  GALAXY  0.116123  56187  \n",
      "...         ...       ...           ...     ...       ...    ...  \n",
      "99995  20.73569       581  1.060000e+19  GALAXY  0.000000  57749  \n",
      "99996  19.41526       289  8.586350e+18  GALAXY  0.404895  56934  \n",
      "99997  17.35221       308  3.112010e+18  GALAXY  0.143366  54535  \n",
      "99998  18.62482       131  7.601080e+18  GALAXY  0.455040  56368  \n",
      "99999  19.28075        60  8.343150e+18  GALAXY  0.542944  57104  \n",
      "\n",
      "[100000 rows x 12 columns]\n"
     ]
    }
   ],
   "source": [
    "print(df)"
   ]
  },
  {
   "cell_type": "code",
   "execution_count": 8,
   "id": "e184ca01-bc0e-4e41-b9f0-6c3943106c10",
   "metadata": {},
   "outputs": [],
   "source": [
    "df = df.drop(\"class\",axis  =1)"
   ]
  },
  {
   "cell_type": "code",
   "execution_count": 9,
   "id": "3f4327f0-d9aa-4922-b042-9867ebb3543f",
   "metadata": {},
   "outputs": [],
   "source": [
    "X = df"
   ]
  },
  {
   "cell_type": "code",
   "execution_count": null,
   "id": "a4975383-1601-4d6b-9f8e-45354eb9c24e",
   "metadata": {},
   "outputs": [],
   "source": [
    "import seaborn as sns\n",
    "\n",
    "sns.pairplot(stars, hue = \"class\")"
   ]
  },
  {
   "cell_type": "code",
   "execution_count": 10,
   "id": "f1826dea-5360-4fb3-9bb6-43fcc240188d",
   "metadata": {},
   "outputs": [],
   "source": [
    "x = np.array(stars[\"alpha\"]).reshape(-1,1)\n",
    "y = np.array(stars[\"class\"])"
   ]
  },
  {
   "cell_type": "code",
   "execution_count": 11,
   "id": "64029bce-0422-4ed7-9422-e7709557e38f",
   "metadata": {},
   "outputs": [],
   "source": [
    "#logistic regression"
   ]
  },
  {
   "cell_type": "code",
   "execution_count": 12,
   "id": "ebf5937e-81ef-4df2-8903-758a37d7a0ea",
   "metadata": {},
   "outputs": [],
   "source": [
    "from sklearn.linear_model import LogisticRegression\n",
    "from sklearn.model_selection import train_test_split"
   ]
  },
  {
   "cell_type": "code",
   "execution_count": 13,
   "id": "b0d0ffbc-7fd9-449d-842e-4965e8e407da",
   "metadata": {},
   "outputs": [],
   "source": [
    "x_train,x_test,y_train,y_test = train_test_split(X,y,random_state = 42)"
   ]
  },
  {
   "cell_type": "code",
   "execution_count": 14,
   "id": "8e552e82-1ddc-4d59-b761-71c717da70a2",
   "metadata": {},
   "outputs": [],
   "source": [
    "log_reg = LogisticRegression(random_state = 42)"
   ]
  },
  {
   "cell_type": "code",
   "execution_count": 15,
   "id": "2a94e1a6-ad3a-4bbd-bb43-f15931bba0b1",
   "metadata": {},
   "outputs": [],
   "source": [
    "clf = log_reg.fit(x_train,y_train)"
   ]
  },
  {
   "cell_type": "code",
   "execution_count": 16,
   "id": "85620eac-4a9a-4e43-9188-c42a55e34e56",
   "metadata": {},
   "outputs": [
    {
     "name": "stdout",
     "output_type": "stream",
     "text": [
      "['GALAXY' 'GALAXY' 'GALAXY' ... 'GALAXY' 'GALAXY' 'GALAXY']\n"
     ]
    }
   ],
   "source": [
    "S = log_reg.predict(X)\n",
    "print(S)"
   ]
  },
  {
   "cell_type": "code",
   "execution_count": 17,
   "id": "be907245-b609-4e66-a1d2-573b1af9360f",
   "metadata": {},
   "outputs": [
    {
     "data": {
      "text/plain": [
       "array([[0.53098739, 0.2721554 , 0.19685721],\n",
       "       [0.68076154, 0.20480644, 0.11443202],\n",
       "       [0.48812381, 0.28839655, 0.22347964],\n",
       "       ...,\n",
       "       [0.42525429, 0.30946176, 0.26528395],\n",
       "       [0.56309473, 0.25906859, 0.17783668],\n",
       "       [0.58523773, 0.24960258, 0.16515969]])"
      ]
     },
     "execution_count": 17,
     "metadata": {},
     "output_type": "execute_result"
    }
   ],
   "source": [
    "log_reg.predict_proba(X)"
   ]
  },
  {
   "cell_type": "code",
   "execution_count": 18,
   "id": "9d1fd60d-0186-483e-9b15-948ae3df753e",
   "metadata": {},
   "outputs": [
    {
     "data": {
      "text/plain": [
       "array([[-0.633017  , -1.30138207, -1.62527662],\n",
       "       [-0.3845432 , -1.58568994, -2.16777434],\n",
       "       [-0.7171862 , -1.24341883, -1.49843496],\n",
       "       ...,\n",
       "       [-0.85506796, -1.17292075, -1.32695452],\n",
       "       [-0.57430741, -1.35066242, -1.72688967],\n",
       "       [-0.53573714, -1.38788529, -1.80084245]])"
      ]
     },
     "execution_count": 18,
     "metadata": {},
     "output_type": "execute_result"
    }
   ],
   "source": [
    "log_reg.predict_log_proba(X)"
   ]
  },
  {
   "cell_type": "code",
   "execution_count": 19,
   "id": "c909616b-37c1-40c1-8c7f-b8ddfbf2129c",
   "metadata": {},
   "outputs": [
    {
     "data": {
      "text/plain": [
       "0.59445"
      ]
     },
     "execution_count": 19,
     "metadata": {},
     "output_type": "execute_result"
    }
   ],
   "source": [
    "clf.score(X,y)"
   ]
  },
  {
   "cell_type": "code",
   "execution_count": 56,
   "id": "a5333572-6124-4f8f-b968-5980b7bf60be",
   "metadata": {},
   "outputs": [],
   "source": [
    "from sklearn.ensemble import RandomForestClassifier"
   ]
  },
  {
   "cell_type": "code",
   "execution_count": 57,
   "id": "1fa57838-5d3a-4771-9cfe-4fbedd15f8fe",
   "metadata": {},
   "outputs": [],
   "source": [
    "#RFR"
   ]
  },
  {
   "cell_type": "code",
   "execution_count": 24,
   "id": "34da755c-5cfc-4555-89df-31819d4aff7b",
   "metadata": {},
   "outputs": [],
   "source": [
    "forest = RandomForestClassifier(max_depth = 500, random_state = 42)"
   ]
  },
  {
   "cell_type": "code",
   "execution_count": 25,
   "id": "c3a50fa1-5b2d-47ba-a7bd-d37be7b551ff",
   "metadata": {},
   "outputs": [],
   "source": [
    "f0 = forest.fit(x_train,y_train)"
   ]
  },
  {
   "cell_type": "code",
   "execution_count": 26,
   "id": "872879d2-affc-4f4c-a0b6-75267b7456d3",
   "metadata": {},
   "outputs": [
    {
     "data": {
      "text/plain": [
       "0.9947"
      ]
     },
     "execution_count": 26,
     "metadata": {},
     "output_type": "execute_result"
    }
   ],
   "source": [
    "f0.score(X,y)"
   ]
  },
  {
   "cell_type": "code",
   "execution_count": 81,
   "id": "fe53a822-d536-4768-b9da-0c35e3413f45",
   "metadata": {},
   "outputs": [
    {
     "data": {
      "text/plain": [
       "array([[1.  , 0.  , 0.  ],\n",
       "       [0.04, 0.  , 0.96],\n",
       "       [0.  , 0.  , 1.  ],\n",
       "       ...,\n",
       "       [0.  , 0.  , 1.  ],\n",
       "       [1.  , 0.  , 0.  ],\n",
       "       [0.57, 0.41, 0.02]])"
      ]
     },
     "execution_count": 81,
     "metadata": {},
     "output_type": "execute_result"
    }
   ],
   "source": [
    "forest.predict_proba(x_test)"
   ]
  },
  {
   "cell_type": "code",
   "execution_count": 68,
   "id": "faed7632-362e-4fab-b492-65bad7dc19f6",
   "metadata": {},
   "outputs": [],
   "source": [
    "pred2 = forest.predict(x_test)"
   ]
  },
  {
   "cell_type": "code",
   "execution_count": 33,
   "id": "ba5b9dae-4590-4ccd-92d1-2d1bca5f8130",
   "metadata": {},
   "outputs": [],
   "source": [
    "#gaussian naive bayes classifier"
   ]
  },
  {
   "cell_type": "code",
   "execution_count": 34,
   "id": "ca29430a-e407-4117-bb46-c5d02bdc1dab",
   "metadata": {},
   "outputs": [],
   "source": [
    "from sklearn.naive_bayes import GaussianNB"
   ]
  },
  {
   "cell_type": "code",
   "execution_count": 35,
   "id": "c158cf10-940d-4b09-bd49-393b3254ec02",
   "metadata": {},
   "outputs": [],
   "source": [
    "bayes = GaussianNB()"
   ]
  },
  {
   "cell_type": "code",
   "execution_count": 36,
   "id": "6d454952-ee4f-4a8b-ac3b-e2ab423294aa",
   "metadata": {},
   "outputs": [
    {
     "data": {
      "text/plain": [
       "GaussianNB()"
      ]
     },
     "execution_count": 36,
     "metadata": {},
     "output_type": "execute_result"
    }
   ],
   "source": [
    "bayes.fit(x_train,y_train)"
   ]
  },
  {
   "cell_type": "code",
   "execution_count": 64,
   "id": "4e7023fa-0c3a-4436-8159-d32cd4e95b58",
   "metadata": {},
   "outputs": [],
   "source": [
    "bayes_pred = bayes.predict(x_test)"
   ]
  },
  {
   "cell_type": "code",
   "execution_count": 38,
   "id": "2031a8fa-426b-45e9-abd6-c1eaf6779a80",
   "metadata": {},
   "outputs": [],
   "source": [
    "from sklearn.metrics import confusion_matrix,f1_score,accuracy_score,ConfusionMatrixDisplay"
   ]
  },
  {
   "cell_type": "code",
   "execution_count": 65,
   "id": "33378c55-63af-46f6-afb0-db9af659bb76",
   "metadata": {},
   "outputs": [
    {
     "name": "stdout",
     "output_type": "stream",
     "text": [
      "0.60464\n",
      "0.725905820105047\n",
      "[[14560   335     0]\n",
      " [ 4213   556     0]\n",
      " [ 5124   212     0]]\n"
     ]
    }
   ],
   "source": [
    "accuracy = accuracy_score(bayes_pred,y_test)\n",
    "print(accuracy)\n",
    "\n",
    "f1 = f1_score(bayes_pred,y_test, average = \"weighted\")\n",
    "print(f1)\n",
    "\n",
    "cm = confusion_matrix(y_test, bayes_pred)\n",
    "matrix = ConfusionMatrixDisplay(confusion_matrix = cm)\n",
    "print(cm)"
   ]
  },
  {
   "cell_type": "code",
   "execution_count": 60,
   "id": "172d1e7e-fed4-4ec0-b1c4-07433b067dfc",
   "metadata": {},
   "outputs": [
    {
     "data": {
      "text/plain": [
       "array([0.60013333, 0.60226667, 0.60326667, 0.60233333, 0.59666667])"
      ]
     },
     "execution_count": 60,
     "metadata": {},
     "output_type": "execute_result"
    }
   ],
   "source": [
    "from sklearn.model_selection import cross_val_score as cross\n",
    "cross(bayes,x_train,y_train, cv = 5, scoring = \"accuracy\")"
   ]
  },
  {
   "cell_type": "code",
   "execution_count": 61,
   "id": "55673e12-5fbe-417a-951a-c260da8d7680",
   "metadata": {},
   "outputs": [
    {
     "data": {
      "text/plain": [
       "array([0.97736, 0.97968, 0.97852])"
      ]
     },
     "execution_count": 61,
     "metadata": {},
     "output_type": "execute_result"
    }
   ],
   "source": [
    "cross(forest,x_train,y_train, cv = 3, scoring = \"accuracy\")"
   ]
  },
  {
   "cell_type": "code",
   "execution_count": 70,
   "id": "09713cb6-b2f4-4611-aa30-844bd6600ba7",
   "metadata": {},
   "outputs": [
    {
     "data": {
      "text/plain": [
       "0.9789710501723629"
      ]
     },
     "execution_count": 70,
     "metadata": {},
     "output_type": "execute_result"
    }
   ],
   "source": [
    "f1_score(pred2,y_test, average = \"weighted\")"
   ]
  },
  {
   "cell_type": "code",
   "execution_count": 72,
   "id": "1aad998f-34d7-4359-b9f3-629fcac56f09",
   "metadata": {},
   "outputs": [
    {
     "name": "stdout",
     "output_type": "stream",
     "text": [
      "['GALAXY' 'STAR' 'STAR' ... 'STAR' 'GALAXY' 'GALAXY']\n"
     ]
    }
   ],
   "source": [
    "print(pred2)"
   ]
  },
  {
   "cell_type": "code",
   "execution_count": 74,
   "id": "7af5aa10-e1e1-4c4c-8fe3-db3b29de22a8",
   "metadata": {},
   "outputs": [
    {
     "data": {
      "text/plain": [
       "<AxesSubplot: ylabel='Count'>"
      ]
     },
     "execution_count": 74,
     "metadata": {},
     "output_type": "execute_result"
    },
    {
     "data": {
      "image/png": "[encoded data removed]",
      "text/plain": [
       "<Figure size 640x480 with 1 Axes>"
      ]
     },
     "metadata": {},
     "output_type": "display_data"
    }
   ],
   "source": [
    "sns.histplot(pred2)"
   ]
  },
  {
   "cell_type": "code",
   "execution_count": 76,
   "id": "9691cd64-16c4-4226-a1a6-ede0d2f507be",
   "metadata": {},
   "outputs": [
    {
     "data": {
      "text/plain": [
       "<AxesSubplot: ylabel='Count'>"
      ]
     },
     "execution_count": 76,
     "metadata": {},
     "output_type": "execute_result"
    },
    {
     "data": {
      "image/png": "[encoded data removed]",
      "text/plain": [
       "<Figure size 640x480 with 1 Axes>"
      ]
     },
     "metadata": {},
     "output_type": "display_data"
    }
   ],
   "source": [
    "sns.histplot(y_test)"
   ]
  },
  {
   "cell_type": "code",
   "execution_count": null,
   "id": "556fc648-4e89-4da8-b514-ec431e5d8fa6",
   "metadata": {},
   "outputs": [],
   "source": []
  }
 ],
 "metadata": {
  "kernelspec": {
   "display_name": "Python 3 (ipykernel)",
   "language": "python",
   "name": "python3"
  },
  "language_info": {
   "codemirror_mode": {
    "name": "ipython",
    "version": 3
   },
   "file_extension": ".py",
   "mimetype": "text/x-python",
   "name": "python",
   "nbconvert_exporter": "python",
   "pygments_lexer": "ipython3",
   "version": "3.9.16"
  }
 },
 "nbformat": 4,
 "nbformat_minor": 5
}
